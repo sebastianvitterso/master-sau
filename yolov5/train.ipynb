{
 "cells": [
  {
   "cell_type": "code",
   "execution_count": 1,
   "metadata": {},
   "outputs": [
    {
     "data": {
      "text/plain": [
       "True"
      ]
     },
     "execution_count": 1,
     "metadata": {},
     "output_type": "execute_result"
    }
   ],
   "source": [
    "import torch\n",
    "\n",
    "torch.cuda.is_available()"
   ]
  },
  {
   "cell_type": "code",
   "execution_count": 9,
   "metadata": {},
   "outputs": [
    {
     "name": "stdout",
     "output_type": "stream",
     "text": [
      "\u001b[34m\u001b[1mdetect: \u001b[0mweights=['img1024-batch300.pt'], source=../data/test/, imgsz=[1024, 1024], conf_thres=0.25, iou_thres=0.45, max_det=1000, device=, view_img=False, save_txt=False, save_conf=False, save_crop=False, nosave=False, classes=None, agnostic_nms=False, augment=False, visualize=False, update=False, project=runs\\detect, name=exp, exist_ok=False, line_thickness=3, hide_labels=False, hide_conf=False, half=False\n",
      "image 1/11 C:\\Users\\ingi\\Documents\\Master\\data\\test\\2018_10_lonset_0474.JPG: 768x1024 10 white sheeps, Done. (0.064s)\n",
      "image 2/11 C:\\Users\\ingi\\Documents\\Master\\data\\test\\2018_10_lonset_0673.JPG: 768x1024 4 white sheeps, 2 brown sheeps, 2 black sheeps, Done. (0.061s)\n",
      "image 3/11 C:\\Users\\ingi\\Documents\\Master\\data\\test\\2018_10_lonset_0863.JPG: 768x1024 13 white sheeps, 2 brown sheeps, 3 black sheeps, Done. (0.061s)\n",
      "image 4/11 C:\\Users\\ingi\\Documents\\Master\\data\\test\\2018_10_lonset_0891.JPG: 768x1024 12 white sheeps, 2 brown sheeps, 3 black sheeps, Done. (0.062s)\n",
      "image 5/11 C:\\Users\\ingi\\Documents\\Master\\data\\test\\2019_08_storli1_0698.JPG: 768x1024 5 white sheeps, 1 grey sheep, Done. (0.061s)\n",
      "image 6/11 C:\\Users\\ingi\\Documents\\Master\\data\\test\\2019_08_storli1_1677.JPG: 768x1024 1 black sheep, 4 grey sheeps, Done. (0.061s)\n",
      "image 7/11 C:\\Users\\ingi\\Documents\\Master\\data\\test\\2019_08_storli1_2074.JPG: 768x1024 1 white sheep, 1 grey sheep, Done. (0.061s)\n",
      "image 8/11 C:\\Users\\ingi\\Documents\\Master\\data\\test\\2019_08_storli1_2798.JPG: 768x1024 5 white sheeps, Done. (0.061s)\n",
      "image 9/11 C:\\Users\\ingi\\Documents\\Master\\data\\test\\2019_08_storli1_3483.JPG: 768x1024 5 white sheeps, Done. (0.062s)\n",
      "image 10/11 C:\\Users\\ingi\\Documents\\Master\\data\\test\\2019_09_storli2_1218.JPG: 768x1024 75 white sheeps, 2 brown sheeps, 5 black sheeps, 32 grey sheeps, Done. (0.062s)\n",
      "image 11/11 C:\\Users\\ingi\\Documents\\Master\\data\\test\\2019_09_storli2_2235.JPG: 768x1024 2 grey sheeps, Done. (0.061s)\n",
      "Speed: 0.9ms pre-process, 61.4ms inference, 1.9ms NMS per image at shape (1, 3, 1024, 1024)\n",
      "Results saved to \u001b[1mruns\\detect\\exp32\u001b[0m\n"
     ]
    },
    {
     "name": "stderr",
     "output_type": "stream",
     "text": [
      "YOLOv5  v5.0-482-gcd35a00 torch 1.9.1+cu111 CUDA:0 (NVIDIA GeForce RTX 2070 SUPER, 8192.0MB)\n",
      "\n",
      "Fusing layers... \n",
      "Model Summary: 392 layers, 46616721 parameters, 0 gradients, 114.1 GFLOPs\n"
     ]
    }
   ],
   "source": [
    "!python detect.py --weights img1280-batch355.pt --img 1280 --source ../data/train/images/ --conf-thres 0.10"
   ]
  },
  {
   "cell_type": "code",
   "execution_count": null,
   "metadata": {},
   "outputs": [],
   "source": [
    "!python train.py --img 1024 --batch 8 --epochs 100 --data sheep.yaml --weights img1024-batch400.pt --cache --freeze 10 --device 0"
   ]
  },
  {
   "cell_type": "code",
   "execution_count": null,
   "metadata": {},
   "outputs": [],
   "source": [
    "!python train.py --img 1280 --batch 8 --epochs 3 --data sheep.yaml --weights img1280-batch300.pt --cache --freeze 10 --device 0"
   ]
  },
  {
   "cell_type": "code",
   "execution_count": 1,
   "metadata": {},
   "outputs": [
    {
     "name": "stdout",
     "output_type": "stream",
     "text": [
      "^C\n",
      "\u001b[34m\u001b[1mval: \u001b[0mdata=C:\\Users\\ingi\\Documents\\Master\\yolov5\\data\\sheep.yaml, weights=['img1280-batch300.pt'], batch_size=32, imgsz=1280, conf_thres=0.001, iou_thres=0.6, task=test, device=0, single_cls=False, augment=False, verbose=False, save_txt=False, save_hybrid=False, save_conf=False, save_json=False, project=runs\\val, name=exp, exist_ok=False, half=False\n"
     ]
    },
    {
     "name": "stderr",
     "output_type": "stream",
     "text": [
      "YOLOv5  v5.0-482-gcd35a00 torch 1.9.1+cu111 CUDA:0 (NVIDIA GeForce RTX 2070 SUPER, 8192.0MB)\n",
      "\n",
      "Fusing layers... \n",
      "Model Summary: 501 layers, 76634028 parameters, 0 gradients, 116.4 GFLOPs\n",
      "Traceback (most recent call last):\n",
      "  File \"val.py\", line 358, in <module>\n",
      "    main(opt)\n",
      "  File \"val.py\", line 333, in main\n",
      "    run(**vars(opt))\n",
      "  File \"C:\\Users\\ingi\\AppData\\Local\\Programs\\Python\\Python38\\lib\\site-packages\\torch\\autograd\\grad_mode.py\", line 28, in decorate_context\n",
      "    return func(*args, **kwargs)\n",
      "  File \"val.py\", line 151, in run\n",
      "    dataloader = create_dataloader(data[task], imgsz, batch_size, gs, single_cls, pad=0.5, rect=True,\n",
      "KeyError: 'test'\n"
     ]
    }
   ],
   "source": [
    "!python val.py --img 1280 --weights img1280-batch355.pt --data sheep.yaml --task test"
   ]
  },
  {
   "cell_type": "code",
   "execution_count": 3,
   "metadata": {},
   "outputs": [],
   "source": [
    "import glob\n",
    "from IPython.display import Image, display\n",
    "\n",
    "for imageName in glob.glob('yolov5/runs/detect/exp25/*.jpg'): #assuming JPG\n",
    "    display(Image(filename=imageName))\n",
    "    print(\"\\n\")"
   ]
  },
  {
   "cell_type": "code",
   "execution_count": 2,
   "metadata": {},
   "outputs": [
    {
     "data": {
      "text/plain": [
       "True"
      ]
     },
     "execution_count": 2,
     "metadata": {},
     "output_type": "execute_result"
    }
   ],
   "source": []
  }
 ],
 "metadata": {
  "interpreter": {
   "hash": "945271e6e6821b80450b41509caf887c0d9c637905064fcba0fd1da1d63e50d6"
  },
  "kernelspec": {
   "display_name": "Python 3.8.1 64-bit",
   "name": "python3"
  },
  "language_info": {
   "codemirror_mode": {
    "name": "ipython",
    "version": 3
   },
   "file_extension": ".py",
   "mimetype": "text/x-python",
   "name": "python",
   "nbconvert_exporter": "python",
   "pygments_lexer": "ipython3",
   "version": "3.8.1"
  },
  "orig_nbformat": 4
 },
 "nbformat": 4,
 "nbformat_minor": 2
}
